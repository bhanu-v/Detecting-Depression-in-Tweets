{
  "nbformat": 4,
  "nbformat_minor": 0,
  "metadata": {
    "colab": {
      "name": "Untitled20.ipynb",
      "version": "0.3.2",
      "provenance": [],
      "include_colab_link": true
    },
    "kernelspec": {
      "name": "python3",
      "display_name": "Python 3"
    }
  },
  "cells": [
    {
      "cell_type": "markdown",
      "metadata": {
        "id": "view-in-github",
        "colab_type": "text"
      },
      "source": [
        "<a href=\"https://colab.research.google.com/github/bhanu-v/Detecting-Depression-in-Tweets/blob/master/Untitled20.ipynb\" target=\"_parent\"><img src=\"https://colab.research.google.com/assets/colab-badge.svg\" alt=\"Open In Colab\"/></a>"
      ]
    },
    {
      "cell_type": "code",
      "metadata": {
        "id": "LZWt-jVpHCeL",
        "colab_type": "code",
        "colab": {}
      },
      "source": [
        "import re\n",
        "import os\n",
        "from collections import Counter\n",
        "import logging\n",
        "import time\n",
        "import itertools\n",
        "\n",
        "import numpy as np\n",
        "import pandas as pd\n",
        "import matplotlib.pyplot as plt\n",
        "%matplotlib inline\n",
        "\n",
        "from sklearn.linear_model import LogisticRegression\n",
        "from sklearn.model_selection import train_test_split\n",
        "from sklearn.preprocessing import LabelEncoder\n",
        "from sklearn.metrics import confusion_matrix, classification_report, accuracy_score\n",
        "from sklearn.manifold import TSNE\n",
        "from sklearn.feature_extraction.text import TfidfVectorizer\n",
        "\n",
        "import nltk\n",
        "from nltk.corpus import stopwords\n",
        "from nltk.stem import SnowballStemmer"
      ],
      "execution_count": 0,
      "outputs": []
    },
    {
      "cell_type": "code",
      "metadata": {
        "id": "ru-hjtY9KHfZ",
        "colab_type": "code",
        "colab": {}
      },
      "source": [
        "# parameters\n",
        "FILTER_STEM = True\n",
        "TRAIN_PORTION = 0.8\n",
        "RANDOM_STATE = 7"
      ],
      "execution_count": 0,
      "outputs": []
    },
    {
      "cell_type": "code",
      "metadata": {
        "id": "qcRyXdR7KJ6f",
        "colab_type": "code",
        "colab": {
          "base_uri": "https://localhost:8080/",
          "height": 669
        },
        "outputId": "d897c339-0db8-4bf3-eb11-55e5706a35a5"
      },
      "source": [
        "tweets = pd.read_csv('sentiment_tweets3.csv')\n",
        "tweets.head(20)"
      ],
      "execution_count": 3,
      "outputs": [
        {
          "output_type": "execute_result",
          "data": {
            "text/html": [
              "<div>\n",
              "<style scoped>\n",
              "    .dataframe tbody tr th:only-of-type {\n",
              "        vertical-align: middle;\n",
              "    }\n",
              "\n",
              "    .dataframe tbody tr th {\n",
              "        vertical-align: top;\n",
              "    }\n",
              "\n",
              "    .dataframe thead th {\n",
              "        text-align: right;\n",
              "    }\n",
              "</style>\n",
              "<table border=\"1\" class=\"dataframe\">\n",
              "  <thead>\n",
              "    <tr style=\"text-align: right;\">\n",
              "      <th></th>\n",
              "      <th>Unnamed: 0</th>\n",
              "      <th>message</th>\n",
              "      <th>label</th>\n",
              "    </tr>\n",
              "  </thead>\n",
              "  <tbody>\n",
              "    <tr>\n",
              "      <th>0</th>\n",
              "      <td>106</td>\n",
              "      <td>just had a real good moment. i missssssssss hi...</td>\n",
              "      <td>0</td>\n",
              "    </tr>\n",
              "    <tr>\n",
              "      <th>1</th>\n",
              "      <td>217</td>\n",
              "      <td>is reading manga  http://plurk.com/p/mzp1e</td>\n",
              "      <td>0</td>\n",
              "    </tr>\n",
              "    <tr>\n",
              "      <th>2</th>\n",
              "      <td>220</td>\n",
              "      <td>@comeagainjen http://twitpic.com/2y2lx - http:...</td>\n",
              "      <td>0</td>\n",
              "    </tr>\n",
              "    <tr>\n",
              "      <th>3</th>\n",
              "      <td>288</td>\n",
              "      <td>@lapcat Need to send 'em to my accountant tomo...</td>\n",
              "      <td>0</td>\n",
              "    </tr>\n",
              "    <tr>\n",
              "      <th>4</th>\n",
              "      <td>540</td>\n",
              "      <td>ADD ME ON MYSPACE!!!  myspace.com/LookThunder</td>\n",
              "      <td>0</td>\n",
              "    </tr>\n",
              "    <tr>\n",
              "      <th>5</th>\n",
              "      <td>624</td>\n",
              "      <td>so sleepy. good times tonight though</td>\n",
              "      <td>0</td>\n",
              "    </tr>\n",
              "    <tr>\n",
              "      <th>6</th>\n",
              "      <td>701</td>\n",
              "      <td>@SilkCharm re: #nbn as someone already said, d...</td>\n",
              "      <td>0</td>\n",
              "    </tr>\n",
              "    <tr>\n",
              "      <th>7</th>\n",
              "      <td>808</td>\n",
              "      <td>23 or 24ï¿½C possible today. Nice</td>\n",
              "      <td>0</td>\n",
              "    </tr>\n",
              "    <tr>\n",
              "      <th>8</th>\n",
              "      <td>1193</td>\n",
              "      <td>nite twitterville  workout in the am  -ciao</td>\n",
              "      <td>0</td>\n",
              "    </tr>\n",
              "    <tr>\n",
              "      <th>9</th>\n",
              "      <td>1324</td>\n",
              "      <td>@daNanner Night, darlin'!  Sweet dreams to you</td>\n",
              "      <td>0</td>\n",
              "    </tr>\n",
              "    <tr>\n",
              "      <th>10</th>\n",
              "      <td>1332</td>\n",
              "      <td>Good morning everybody!</td>\n",
              "      <td>0</td>\n",
              "    </tr>\n",
              "    <tr>\n",
              "      <th>11</th>\n",
              "      <td>1368</td>\n",
              "      <td>Finally! I just created my WordPress Blog. The...</td>\n",
              "      <td>0</td>\n",
              "    </tr>\n",
              "    <tr>\n",
              "      <th>12</th>\n",
              "      <td>1578</td>\n",
              "      <td>kisha they cnt get over u til they get out frm...</td>\n",
              "      <td>0</td>\n",
              "    </tr>\n",
              "    <tr>\n",
              "      <th>13</th>\n",
              "      <td>1595</td>\n",
              "      <td>@nicolerichie Yes i remember that band, It was...</td>\n",
              "      <td>0</td>\n",
              "    </tr>\n",
              "    <tr>\n",
              "      <th>14</th>\n",
              "      <td>1861</td>\n",
              "      <td>I really love reflections and shadows</td>\n",
              "      <td>0</td>\n",
              "    </tr>\n",
              "    <tr>\n",
              "      <th>15</th>\n",
              "      <td>1889</td>\n",
              "      <td>@blueaero ooo it's fantasy?  i like fantasy no...</td>\n",
              "      <td>0</td>\n",
              "    </tr>\n",
              "    <tr>\n",
              "      <th>16</th>\n",
              "      <td>1899</td>\n",
              "      <td>@rokchic28 no probs, I sell nothing other than...</td>\n",
              "      <td>0</td>\n",
              "    </tr>\n",
              "    <tr>\n",
              "      <th>17</th>\n",
              "      <td>1919</td>\n",
              "      <td>@shipovalov &amp;quot;NOKLA connecting people&amp;quot...</td>\n",
              "      <td>0</td>\n",
              "    </tr>\n",
              "    <tr>\n",
              "      <th>18</th>\n",
              "      <td>1992</td>\n",
              "      <td>Once again stayed up to late and have to start...</td>\n",
              "      <td>0</td>\n",
              "    </tr>\n",
              "    <tr>\n",
              "      <th>19</th>\n",
              "      <td>2097</td>\n",
              "      <td>@Kal_Penn I just read about your new job, CONG...</td>\n",
              "      <td>0</td>\n",
              "    </tr>\n",
              "  </tbody>\n",
              "</table>\n",
              "</div>"
            ],
            "text/plain": [
              "    Unnamed: 0                                            message  label\n",
              "0          106  just had a real good moment. i missssssssss hi...      0\n",
              "1          217         is reading manga  http://plurk.com/p/mzp1e      0\n",
              "2          220  @comeagainjen http://twitpic.com/2y2lx - http:...      0\n",
              "3          288  @lapcat Need to send 'em to my accountant tomo...      0\n",
              "4          540      ADD ME ON MYSPACE!!!  myspace.com/LookThunder      0\n",
              "5          624              so sleepy. good times tonight though       0\n",
              "6          701  @SilkCharm re: #nbn as someone already said, d...      0\n",
              "7          808                 23 or 24ï¿½C possible today. Nice       0\n",
              "8         1193        nite twitterville  workout in the am  -ciao      0\n",
              "9         1324    @daNanner Night, darlin'!  Sweet dreams to you       0\n",
              "10        1332                           Good morning everybody!       0\n",
              "11        1368  Finally! I just created my WordPress Blog. The...      0\n",
              "12        1578  kisha they cnt get over u til they get out frm...      0\n",
              "13        1595  @nicolerichie Yes i remember that band, It was...      0\n",
              "14        1861             I really love reflections and shadows       0\n",
              "15        1889  @blueaero ooo it's fantasy?  i like fantasy no...      0\n",
              "16        1899  @rokchic28 no probs, I sell nothing other than...      0\n",
              "17        1919  @shipovalov &quot;NOKLA connecting people&quot...      0\n",
              "18        1992  Once again stayed up to late and have to start...      0\n",
              "19        2097  @Kal_Penn I just read about your new job, CONG...      0"
            ]
          },
          "metadata": {
            "tags": []
          },
          "execution_count": 3
        }
      ]
    },
    {
      "cell_type": "code",
      "metadata": {
        "id": "aHsOfU1qKUgd",
        "colab_type": "code",
        "colab": {}
      },
      "source": [
        "df=tweets"
      ],
      "execution_count": 0,
      "outputs": []
    },
    {
      "cell_type": "code",
      "metadata": {
        "id": "Y1FgfE4qKaEz",
        "colab_type": "code",
        "colab": {
          "base_uri": "https://localhost:8080/",
          "height": 68
        },
        "outputId": "1cce4c0f-e327-4db3-ddab-c54dd9410cb9"
      },
      "source": [
        "df.label.value_counts()"
      ],
      "execution_count": 6,
      "outputs": [
        {
          "output_type": "execute_result",
          "data": {
            "text/plain": [
              "0    8000\n",
              "1    2314\n",
              "Name: label, dtype: int64"
            ]
          },
          "metadata": {
            "tags": []
          },
          "execution_count": 6
        }
      ]
    },
    {
      "cell_type": "code",
      "metadata": {
        "id": "sEw2K8e1KciN",
        "colab_type": "code",
        "colab": {}
      },
      "source": [
        "df.drop(['Unnamed: 0'], axis = 1, inplace = True)"
      ],
      "execution_count": 0,
      "outputs": []
    },
    {
      "cell_type": "code",
      "metadata": {
        "id": "58SWy8xvLJ45",
        "colab_type": "code",
        "colab": {
          "base_uri": "https://localhost:8080/",
          "height": 68
        },
        "outputId": "db605974-b542-43d1-bd27-6fdc00900083"
      },
      "source": [
        "nltk.download('stopwords')"
      ],
      "execution_count": 11,
      "outputs": [
        {
          "output_type": "stream",
          "text": [
            "[nltk_data] Downloading package stopwords to /root/nltk_data...\n",
            "[nltk_data]   Unzipping corpora/stopwords.zip.\n"
          ],
          "name": "stdout"
        },
        {
          "output_type": "execute_result",
          "data": {
            "text/plain": [
              "True"
            ]
          },
          "metadata": {
            "tags": []
          },
          "execution_count": 11
        }
      ]
    },
    {
      "cell_type": "code",
      "metadata": {
        "id": "qMjiMZhHKnep",
        "colab_type": "code",
        "colab": {
          "base_uri": "https://localhost:8080/",
          "height": 51
        },
        "outputId": "de30edeb-7ac1-43f2-81c7-ae96b98488dd"
      },
      "source": [
        "%%time\n",
        "stop_words = stopwords.words(\"english\")\n",
        "stemmer = SnowballStemmer(\"english\")\n",
        "def filter_stopwords(text):\n",
        "    text = re.sub(\"@\\S+|https?:\\S+|http?:\\S|[^A-Za-z0-9]+\", ' ', str(text).lower()).strip()\n",
        "    if FILTER_STEM:\n",
        "        return \" \".join([stemmer.stem(token) for token in text.split() if token not in stop_words])\n",
        "    else:\n",
        "        return \" \".join([token for token in text.split() if token not in stop_words])\n",
        "df.message = df.message.apply(filter_stopwords)"
      ],
      "execution_count": 12,
      "outputs": [
        {
          "output_type": "stream",
          "text": [
            "CPU times: user 1.33 s, sys: 6.53 ms, total: 1.33 s\n",
            "Wall time: 1.34 s\n"
          ],
          "name": "stdout"
        }
      ]
    },
    {
      "cell_type": "code",
      "metadata": {
        "id": "O3UI0oJ8K7xJ",
        "colab_type": "code",
        "colab": {
          "base_uri": "https://localhost:8080/",
          "height": 51
        },
        "outputId": "fa57d4c1-770c-445e-8051-cbeb817066b0"
      },
      "source": [
        "%%time\n",
        "vectorizer = TfidfVectorizer()\n",
        "word_frequency = vectorizer.fit_transform(df.message)"
      ],
      "execution_count": 13,
      "outputs": [
        {
          "output_type": "stream",
          "text": [
            "CPU times: user 123 ms, sys: 4.68 ms, total: 128 ms\n",
            "Wall time: 145 ms\n"
          ],
          "name": "stdout"
        }
      ]
    },
    {
      "cell_type": "code",
      "metadata": {
        "id": "Qa9RseyDLXwG",
        "colab_type": "code",
        "colab": {
          "base_uri": "https://localhost:8080/",
          "height": 34
        },
        "outputId": "966c361a-30ee-442e-8fd2-a60d50dd0e39"
      },
      "source": [
        "# for not stem\n",
        "len(vectorizer.get_feature_names())"
      ],
      "execution_count": 14,
      "outputs": [
        {
          "output_type": "execute_result",
          "data": {
            "text/plain": [
              "13382"
            ]
          },
          "metadata": {
            "tags": []
          },
          "execution_count": 14
        }
      ]
    },
    {
      "cell_type": "code",
      "metadata": {
        "id": "6-UURJbCLfHN",
        "colab_type": "code",
        "colab": {
          "base_uri": "https://localhost:8080/",
          "height": 51
        },
        "outputId": "9574b69c-5410-417f-eec3-2b8e84e9c43a"
      },
      "source": [
        "sample_index = np.random.random(df.shape[0])\n",
        "X_train, X_test = word_frequency[sample_index <= TRAIN_PORTION, :], word_frequency[sample_index > TRAIN_PORTION, :]\n",
        "Y_train, Y_test = df.label[sample_index <= TRAIN_PORTION], df.label[sample_index > TRAIN_PORTION]\n",
        "print(f\"shape of training set: X={X_train.shape}, Y={Y_train.shape}\")\n",
        "print(f\"shape of test set: X={X_test.shape}, Y={Y_test.shape}\")"
      ],
      "execution_count": 16,
      "outputs": [
        {
          "output_type": "stream",
          "text": [
            "shape of training set: X=(8211, 13382), Y=(8211,)\n",
            "shape of test set: X=(2103, 13382), Y=(2103,)\n"
          ],
          "name": "stdout"
        }
      ]
    },
    {
      "cell_type": "code",
      "metadata": {
        "id": "Ty6bYFFALnDD",
        "colab_type": "code",
        "colab": {
          "base_uri": "https://localhost:8080/",
          "height": 51
        },
        "outputId": "25deedaa-1910-4b10-d740-924499a9a3f0"
      },
      "source": [
        "%%time\n",
        "clf = LogisticRegression(random_state=0, solver='saga', multi_class='multinomial').fit(X_train, Y_train)"
      ],
      "execution_count": 17,
      "outputs": [
        {
          "output_type": "stream",
          "text": [
            "CPU times: user 62.1 ms, sys: 898 µs, total: 63 ms\n",
            "Wall time: 65.5 ms\n"
          ],
          "name": "stdout"
        }
      ]
    },
    {
      "cell_type": "code",
      "metadata": {
        "id": "TcTuyfKQLxo5",
        "colab_type": "code",
        "colab": {
          "base_uri": "https://localhost:8080/",
          "height": 34
        },
        "outputId": "b63d38fe-46f5-40fd-c6fb-c8a7a46db6ce"
      },
      "source": [
        "Y_predit = clf.predict(X_test)\n",
        "sum(Y_predit == Y_test) / len(Y_test)"
      ],
      "execution_count": 18,
      "outputs": [
        {
          "output_type": "execute_result",
          "data": {
            "text/plain": [
              "0.9909652876842606"
            ]
          },
          "metadata": {
            "tags": []
          },
          "execution_count": 18
        }
      ]
    },
    {
      "cell_type": "code",
      "metadata": {
        "id": "Xk7KKGzNL0bc",
        "colab_type": "code",
        "colab": {
          "base_uri": "https://localhost:8080/",
          "height": 221
        },
        "outputId": "7a887fd9-b687-488b-cf51-c51132086a57"
      },
      "source": [
        "\n",
        "from sklearn.metrics import confusion_matrix, precision_recall_curve, auc, roc_auc_score, roc_curve, recall_score, classification_report\n",
        "\n",
        "from sklearn.metrics import confusion_matrix\n",
        "matrix = confusion_matrix(Y_test,Y_predit)\n",
        "print(matrix)\n",
        "print(classification_report(Y_test,Y_predit))\n",
        "print(roc_auc_score(Y_test,Y_predit))"
      ],
      "execution_count": 19,
      "outputs": [
        {
          "output_type": "stream",
          "text": [
            "[[1651    0]\n",
            " [  19  433]]\n",
            "              precision    recall  f1-score   support\n",
            "\n",
            "           0       0.99      1.00      0.99      1651\n",
            "           1       1.00      0.96      0.98       452\n",
            "\n",
            "    accuracy                           0.99      2103\n",
            "   macro avg       0.99      0.98      0.99      2103\n",
            "weighted avg       0.99      0.99      0.99      2103\n",
            "\n",
            "0.9789823008849557\n"
          ],
          "name": "stdout"
        }
      ]
    },
    {
      "cell_type": "code",
      "metadata": {
        "id": "t2UnI9mpL2_y",
        "colab_type": "code",
        "colab": {}
      },
      "source": [
        "from sklearn import tree\n",
        "clf = tree.DecisionTreeClassifier()\n",
        "clf = clf.fit(X_train, Y_train)\n",
        "pred=clf.predict(X_test)"
      ],
      "execution_count": 0,
      "outputs": []
    },
    {
      "cell_type": "code",
      "metadata": {
        "id": "TseacMcIL_kM",
        "colab_type": "code",
        "colab": {
          "base_uri": "https://localhost:8080/",
          "height": 221
        },
        "outputId": "d637b289-23e8-4f8b-9c3a-4bcfd98aa1b1"
      },
      "source": [
        "from sklearn.metrics import confusion_matrix, precision_recall_curve, auc, roc_auc_score, roc_curve, recall_score, classification_report\n",
        "\n",
        "from sklearn.metrics import confusion_matrix\n",
        "matrix = confusion_matrix(Y_test,pred)\n",
        "print(matrix)\n",
        "print(classification_report(Y_test,pred))\n",
        "print(roc_auc_score(Y_test,pred))#base model"
      ],
      "execution_count": 21,
      "outputs": [
        {
          "output_type": "stream",
          "text": [
            "[[1651    0]\n",
            " [   2  450]]\n",
            "              precision    recall  f1-score   support\n",
            "\n",
            "           0       1.00      1.00      1.00      1651\n",
            "           1       1.00      1.00      1.00       452\n",
            "\n",
            "    accuracy                           1.00      2103\n",
            "   macro avg       1.00      1.00      1.00      2103\n",
            "weighted avg       1.00      1.00      1.00      2103\n",
            "\n",
            "0.997787610619469\n"
          ],
          "name": "stdout"
        }
      ]
    },
    {
      "cell_type": "code",
      "metadata": {
        "id": "LYGPwWEoMBpN",
        "colab_type": "code",
        "colab": {
          "base_uri": "https://localhost:8080/",
          "height": 34
        },
        "outputId": "36954cdd-41cf-49b5-9e88-da78d89a9075"
      },
      "source": [
        "pred"
      ],
      "execution_count": 22,
      "outputs": [
        {
          "output_type": "execute_result",
          "data": {
            "text/plain": [
              "array([0, 0, 0, ..., 1, 1, 1])"
            ]
          },
          "metadata": {
            "tags": []
          },
          "execution_count": 22
        }
      ]
    },
    {
      "cell_type": "code",
      "metadata": {
        "id": "6Y1Q7oDmMFBs",
        "colab_type": "code",
        "colab": {
          "base_uri": "https://localhost:8080/",
          "height": 51
        },
        "outputId": "3b7f5d3a-5f33-41a8-eaaa-8fc8909c2f3a"
      },
      "source": [
        "X_train"
      ],
      "execution_count": 24,
      "outputs": [
        {
          "output_type": "execute_result",
          "data": {
            "text/plain": [
              "<8211x13382 sparse matrix of type '<class 'numpy.float64'>'\n",
              "\twith 65526 stored elements in Compressed Sparse Row format>"
            ]
          },
          "metadata": {
            "tags": []
          },
          "execution_count": 24
        }
      ]
    },
    {
      "cell_type": "code",
      "metadata": {
        "id": "oZ7-WgWKMIzy",
        "colab_type": "code",
        "colab": {}
      },
      "source": [
        " "
      ],
      "execution_count": 0,
      "outputs": []
    }
  ]
}